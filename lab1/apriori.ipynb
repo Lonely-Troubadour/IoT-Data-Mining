{
 "cells": [
  {
   "cell_type": "code",
   "execution_count": 1,
   "metadata": {},
   "outputs": [],
   "source": [
    "import pandas as pd\n",
    "import argparse\n",
    "import time\n",
    "from itertools import chain, combinations"
   ]
  },
  {
   "cell_type": "code",
   "execution_count": 2,
   "metadata": {},
   "outputs": [],
   "source": [
    "def read_file(file_path):\n",
    "    item_set = list()\n",
    "    df = pd.read_csv(file_path)\n",
    "    raw_data = df.iloc[:, 1].values.tolist()\n",
    "    t0 = time.perf_counter()\n",
    "    for item in raw_data:\n",
    "        item = item.strip('{}')\n",
    "        tmp = item.split(\",\")\n",
    "        item_set.append(set(tmp))\n",
    "    t1 = time.perf_counter()\n",
    "    print(\"Read Data Time \", (t1 - t0) * 1000)\n",
    "\n",
    "    return item_set"
   ]
  },
  {
   "cell_type": "code",
   "execution_count": 3,
   "metadata": {},
   "outputs": [
    {
     "name": "stdout",
     "output_type": "stream",
     "text": [
      "Read Data Time  10.759500000006028\n"
     ]
    }
   ],
   "source": [
    "support = 0.1\n",
    "confidence = 0.6\n",
    "t_list = read_file('Groceries.csv')"
   ]
  },
  {
   "cell_type": "code",
   "execution_count": 8,
   "metadata": {},
   "outputs": [
    {
     "name": "stdout",
     "output_type": "stream",
     "text": [
      "0       {citrus fruit,semi-finished bread,margarine,re...\n",
      "1                          {tropical fruit,yogurt,coffee}\n",
      "2                                            {whole milk}\n",
      "3           {pip fruit,yogurt,cream cheese ,meat spreads}\n",
      "4       {other vegetables,whole milk,condensed milk,lo...\n",
      "                              ...                        \n",
      "9830    {sausage,chicken,beef,hamburger meat,citrus fr...\n",
      "9831                                  {cooking chocolate}\n",
      "9832    {chicken,citrus fruit,other vegetables,butter,...\n",
      "9833    {semi-finished bread,bottled water,soda,bottle...\n",
      "9834    {chicken,tropical fruit,other vegetables,vineg...\n",
      "Name: items, Length: 9835, dtype: object\n"
     ]
    }
   ],
   "source": [
    "print(df)"
   ]
  },
  {
   "cell_type": "code",
   "execution_count": null,
   "metadata": {},
   "outputs": [],
   "source": []
  }
 ],
 "metadata": {
  "kernelspec": {
   "display_name": "Python 3",
   "language": "python",
   "name": "python3"
  },
  "language_info": {
   "codemirror_mode": {
    "name": "ipython",
    "version": 3
   },
   "file_extension": ".py",
   "mimetype": "text/x-python",
   "name": "python",
   "nbconvert_exporter": "python",
   "pygments_lexer": "ipython3",
   "version": "3.7.7"
  }
 },
 "nbformat": 4,
 "nbformat_minor": 4
}
