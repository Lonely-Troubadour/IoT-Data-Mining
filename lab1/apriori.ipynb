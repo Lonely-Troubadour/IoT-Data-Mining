{
 "cells": [
  {
   "cell_type": "code",
   "execution_count": 1,
   "metadata": {},
   "outputs": [],
   "source": [
    "import os\n",
    "import pandas as pd"
   ]
  },
  {
   "cell_type": "code",
   "execution_count": 2,
   "metadata": {},
   "outputs": [
    {
     "name": "stdout",
     "output_type": "stream",
     "text": [
      "      Unnamed: 0                                              items\n",
      "0              1  {citrus fruit,semi-finished bread,margarine,re...\n",
      "1              2                     {tropical fruit,yogurt,coffee}\n",
      "2              3                                       {whole milk}\n",
      "3              4      {pip fruit,yogurt,cream cheese ,meat spreads}\n",
      "4              5  {other vegetables,whole milk,condensed milk,lo...\n",
      "...          ...                                                ...\n",
      "9830        9831  {sausage,chicken,beef,hamburger meat,citrus fr...\n",
      "9831        9832                                {cooking chocolate}\n",
      "9832        9833  {chicken,citrus fruit,other vegetables,butter,...\n",
      "9833        9834  {semi-finished bread,bottled water,soda,bottle...\n",
      "9834        9835  {chicken,tropical fruit,other vegetables,vineg...\n",
      "\n",
      "[9835 rows x 2 columns]\n"
     ]
    }
   ],
   "source": [
    "df = pd.read_csv('Groceries.csv')\n",
    "print(df)"
   ]
  },
  {
   "cell_type": "code",
   "execution_count": 7,
   "metadata": {},
   "outputs": [],
   "source": [
    "df = df.iloc[:,1]"
   ]
  },
  {
   "cell_type": "code",
   "execution_count": 8,
   "metadata": {},
   "outputs": [
    {
     "name": "stdout",
     "output_type": "stream",
     "text": [
      "0       {citrus fruit,semi-finished bread,margarine,re...\n",
      "1                          {tropical fruit,yogurt,coffee}\n",
      "2                                            {whole milk}\n",
      "3           {pip fruit,yogurt,cream cheese ,meat spreads}\n",
      "4       {other vegetables,whole milk,condensed milk,lo...\n",
      "                              ...                        \n",
      "9830    {sausage,chicken,beef,hamburger meat,citrus fr...\n",
      "9831                                  {cooking chocolate}\n",
      "9832    {chicken,citrus fruit,other vegetables,butter,...\n",
      "9833    {semi-finished bread,bottled water,soda,bottle...\n",
      "9834    {chicken,tropical fruit,other vegetables,vineg...\n",
      "Name: items, Length: 9835, dtype: object\n"
     ]
    }
   ],
   "source": [
    "print(df)"
   ]
  },
  {
   "cell_type": "code",
   "execution_count": null,
   "metadata": {},
   "outputs": [],
   "source": []
  }
 ],
 "metadata": {
  "kernelspec": {
   "display_name": "Python 3",
   "language": "python",
   "name": "python3"
  },
  "language_info": {
   "codemirror_mode": {
    "name": "ipython",
    "version": 3
   },
   "file_extension": ".py",
   "mimetype": "text/x-python",
   "name": "python",
   "nbconvert_exporter": "python",
   "pygments_lexer": "ipython3",
   "version": "3.7.6"
  }
 },
 "nbformat": 4,
 "nbformat_minor": 4
}
